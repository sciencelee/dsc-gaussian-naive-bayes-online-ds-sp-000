{
 "cells": [
  {
   "cell_type": "markdown",
   "metadata": {},
   "source": [
    "# Gaussian Naive Bayes\n",
    "\n",
    "## Introduction\n",
    "\n",
    "Expanding Bayes theorem to account for multiple observations and conditional probabilities drastically increases predictive power. In essence, it allows you to develop a belief network taking into account all of the available information regarding the scenario. In this lesson, you'll take a look at one particular implementation of a multinomial naive Bayes algorithm: Gaussian Naive Bayes.\n",
    "\n",
    "## Objectives\n",
    "\n",
    "You will be able to:\n",
    "\n",
    "* Explain the Gaussian Naive Bayes algorithm\n",
    "* Implement the Gaussian Naive Bayes (GNB) algorithm using SciPy and NumPy"
   ]
  },
  {
   "cell_type": "markdown",
   "metadata": {},
   "source": [
    "## Theoretical background\n",
    "\n",
    "Multinomial Bayes expands upon Bayes' theorem to multiple observations.\n",
    "\n",
    "Recall that Bayes' theorem is:  \n",
    "\n",
    "$$ \\Large P(A|B) = \\frac{P(B|A)\\bullet P(A)}{P(B)}$$\n",
    "\n",
    "Expanding to multiple features, the multinomial Bayes' formula is:  \n",
    "\n",
    "$$ \\Large P(y|x_1, x_2, ..., x_n) = \\frac{P(y)\\prod_{i}^{n}P(x_i|y)}{P(x_1, x_2, ..., x_n)}$$\n",
    "\n",
    "\n",
    "Here $y$ is an observation class while $x_1$ through $x_n$ are various features of the observation. Similar to linear regression, these features are assumed to be linearly independent. The motivating idea is that the various features $x_1, x_2,...x_n$ will help inform which class a particular observation belongs to. This could be anything from 'Does this person have a disease?' to 'Is this credit card purchase fraudulent' or 'What marketing audience does this individual fall into?'. In this lesson you will work with classic iris dataset. This dataset includes various measurements of a flower's anatomy and the specific species of the flower. For that dataset, $y$ would be the flower species while $x_1$ through $x_n$ would be the various measurements for a given flower. As such, the equation for Multinomial Bayes, given above, would allow you to calculate the probability that a given flower belongs to a specific category of species.\n",
    "\n",
    "With that, let's dig into the formula a little more to get a deeper understanding. In the numerator, you multiply the product of the conditional probabilities $P(x_i|y)$ by the probability of the class y. The denominator is the overall probability (across all classes) for the observed values of the various features. In practice, this can be difficult or impossible to calculate. Fortunately, doing so is typically not required, as you will simply be comparing the relative probabilities of the various classes&mdash;do you believe this flower is of species A, species B or species C?  \n",
    "\n",
    "To calculate each of the conditional probabilities in the numerator, $P(x_i|y)$, the Gaussian Naive Bayes algorithm traditionally uses the Gaussian probability density function to give a relative estimate of the probability of the feature observation, $x_i$, for the class $y$. Some statisticians don't agree with this as the probability of any point on a PDF curve is actually 0. As you've seen in z-tests and t-tests, only ranges of values have a probability, and these are calculated by taking the area under the PDF curve for the given range. While true, these point estimates can be loosely used as 'the relative probability for values near $x_i$'. \n",
    "\n",
    "With that, you have:  \n",
    "\n",
    "$$\\Large P(x_i|y) = \\frac{1}{\\sqrt{2\\pi \\sigma_i^2}}e^{\\frac{-(x-\\mu_i)^2}{2\\sigma_i^2}}$$\n",
    "\n",
    "Where $\\mu_i$ is the mean of feature $x_i$ for class $y$ and $\\sigma_i^2$ is the variance of feature $x_i$ for class $y$.\n",
    "\n",
    "From there, each of the relative posterior probabilities are calculated for each of the classes. The largest of these is the class which is the most probable for the given observation.  \n",
    "\n",
    "With that, let's take a look in practice to try to make this process a little clearer."
   ]
  },
  {
   "cell_type": "markdown",
   "metadata": {},
   "source": [
    "## Load the dataset\n",
    "\n",
    "First, let's load in the Iris dataset to use to demonstrate the Gaussian Naive Bayes algorithm: "
   ]
  },
  {
   "cell_type": "code",
   "execution_count": 1,
   "metadata": {},
   "outputs": [
    {
     "data": {
      "text/html": [
       "<div>\n",
       "<style scoped>\n",
       "    .dataframe tbody tr th:only-of-type {\n",
       "        vertical-align: middle;\n",
       "    }\n",
       "\n",
       "    .dataframe tbody tr th {\n",
       "        vertical-align: top;\n",
       "    }\n",
       "\n",
       "    .dataframe thead th {\n",
       "        text-align: right;\n",
       "    }\n",
       "</style>\n",
       "<table border=\"1\" class=\"dataframe\">\n",
       "  <thead>\n",
       "    <tr style=\"text-align: right;\">\n",
       "      <th></th>\n",
       "      <th>sepal length (cm)</th>\n",
       "      <th>sepal width (cm)</th>\n",
       "      <th>petal length (cm)</th>\n",
       "      <th>petal width (cm)</th>\n",
       "      <th>Target</th>\n",
       "    </tr>\n",
       "  </thead>\n",
       "  <tbody>\n",
       "    <tr>\n",
       "      <td>0</td>\n",
       "      <td>5.1</td>\n",
       "      <td>3.5</td>\n",
       "      <td>1.4</td>\n",
       "      <td>0.2</td>\n",
       "      <td>0</td>\n",
       "    </tr>\n",
       "    <tr>\n",
       "      <td>1</td>\n",
       "      <td>4.9</td>\n",
       "      <td>3.0</td>\n",
       "      <td>1.4</td>\n",
       "      <td>0.2</td>\n",
       "      <td>0</td>\n",
       "    </tr>\n",
       "    <tr>\n",
       "      <td>2</td>\n",
       "      <td>4.7</td>\n",
       "      <td>3.2</td>\n",
       "      <td>1.3</td>\n",
       "      <td>0.2</td>\n",
       "      <td>0</td>\n",
       "    </tr>\n",
       "    <tr>\n",
       "      <td>3</td>\n",
       "      <td>4.6</td>\n",
       "      <td>3.1</td>\n",
       "      <td>1.5</td>\n",
       "      <td>0.2</td>\n",
       "      <td>0</td>\n",
       "    </tr>\n",
       "    <tr>\n",
       "      <td>4</td>\n",
       "      <td>5.0</td>\n",
       "      <td>3.6</td>\n",
       "      <td>1.4</td>\n",
       "      <td>0.2</td>\n",
       "      <td>0</td>\n",
       "    </tr>\n",
       "  </tbody>\n",
       "</table>\n",
       "</div>"
      ],
      "text/plain": [
       "   sepal length (cm)  sepal width (cm)  petal length (cm)  petal width (cm)  \\\n",
       "0                5.1               3.5                1.4               0.2   \n",
       "1                4.9               3.0                1.4               0.2   \n",
       "2                4.7               3.2                1.3               0.2   \n",
       "3                4.6               3.1                1.5               0.2   \n",
       "4                5.0               3.6                1.4               0.2   \n",
       "\n",
       "   Target  \n",
       "0       0  \n",
       "1       0  \n",
       "2       0  \n",
       "3       0  \n",
       "4       0  "
      ]
     },
     "execution_count": 1,
     "metadata": {},
     "output_type": "execute_result"
    }
   ],
   "source": [
    "from sklearn import datasets\n",
    "import pandas as pd\n",
    "import numpy as np\n",
    "\n",
    "iris = datasets.load_iris()\n",
    "\n",
    "X = pd.DataFrame(iris.data)\n",
    "X.columns = iris.feature_names\n",
    "\n",
    "y = pd.DataFrame(iris.target)\n",
    "y.columns = ['Target']\n",
    "\n",
    "df = pd.concat([X, y], axis=1)\n",
    "df.head()"
   ]
  },
  {
   "cell_type": "markdown",
   "metadata": {},
   "source": [
    "It's always a good idea to briefly examine the data. In this case, let's check how many observations there are for each flower species:"
   ]
  },
  {
   "cell_type": "code",
   "execution_count": 2,
   "metadata": {},
   "outputs": [
    {
     "data": {
      "text/plain": [
       "2    50\n",
       "1    50\n",
       "0    50\n",
       "Name: Target, dtype: int64"
      ]
     },
     "execution_count": 2,
     "metadata": {},
     "output_type": "execute_result"
    }
   ],
   "source": [
    "df['Target'].value_counts()"
   ]
  },
  {
   "cell_type": "markdown",
   "metadata": {},
   "source": [
    "## Calculate the mean and standard deviation of each feature for each class\n",
    "\n",
    "Next, you calculate the mean and standard deviation within a class for each of the features. You'll then use these values to calculate the conditional probability of a particular feature observation for each of the classes."
   ]
  },
  {
   "cell_type": "code",
   "execution_count": 9,
   "metadata": {},
   "outputs": [
    {
     "data": {
      "text/html": [
       "<div>\n",
       "<style scoped>\n",
       "    .dataframe tbody tr th:only-of-type {\n",
       "        vertical-align: middle;\n",
       "    }\n",
       "\n",
       "    .dataframe tbody tr th {\n",
       "        vertical-align: top;\n",
       "    }\n",
       "\n",
       "    .dataframe thead tr th {\n",
       "        text-align: left;\n",
       "    }\n",
       "\n",
       "    .dataframe thead tr:last-of-type th {\n",
       "        text-align: right;\n",
       "    }\n",
       "</style>\n",
       "<table border=\"1\" class=\"dataframe\">\n",
       "  <thead>\n",
       "    <tr>\n",
       "      <th></th>\n",
       "      <th colspan=\"2\" halign=\"left\">sepal length (cm)</th>\n",
       "      <th colspan=\"2\" halign=\"left\">sepal width (cm)</th>\n",
       "      <th colspan=\"2\" halign=\"left\">petal length (cm)</th>\n",
       "      <th colspan=\"2\" halign=\"left\">petal width (cm)</th>\n",
       "    </tr>\n",
       "    <tr>\n",
       "      <th></th>\n",
       "      <th>mean</th>\n",
       "      <th>std</th>\n",
       "      <th>mean</th>\n",
       "      <th>std</th>\n",
       "      <th>mean</th>\n",
       "      <th>std</th>\n",
       "      <th>mean</th>\n",
       "      <th>std</th>\n",
       "    </tr>\n",
       "    <tr>\n",
       "      <th>Target</th>\n",
       "      <th></th>\n",
       "      <th></th>\n",
       "      <th></th>\n",
       "      <th></th>\n",
       "      <th></th>\n",
       "      <th></th>\n",
       "      <th></th>\n",
       "      <th></th>\n",
       "    </tr>\n",
       "  </thead>\n",
       "  <tbody>\n",
       "    <tr>\n",
       "      <td>0</td>\n",
       "      <td>5.006</td>\n",
       "      <td>0.352490</td>\n",
       "      <td>3.428</td>\n",
       "      <td>0.379064</td>\n",
       "      <td>1.462</td>\n",
       "      <td>0.173664</td>\n",
       "      <td>0.246</td>\n",
       "      <td>0.105386</td>\n",
       "    </tr>\n",
       "    <tr>\n",
       "      <td>1</td>\n",
       "      <td>5.936</td>\n",
       "      <td>0.516171</td>\n",
       "      <td>2.770</td>\n",
       "      <td>0.313798</td>\n",
       "      <td>4.260</td>\n",
       "      <td>0.469911</td>\n",
       "      <td>1.326</td>\n",
       "      <td>0.197753</td>\n",
       "    </tr>\n",
       "    <tr>\n",
       "      <td>2</td>\n",
       "      <td>6.588</td>\n",
       "      <td>0.635880</td>\n",
       "      <td>2.974</td>\n",
       "      <td>0.322497</td>\n",
       "      <td>5.552</td>\n",
       "      <td>0.551895</td>\n",
       "      <td>2.026</td>\n",
       "      <td>0.274650</td>\n",
       "    </tr>\n",
       "  </tbody>\n",
       "</table>\n",
       "</div>"
      ],
      "text/plain": [
       "       sepal length (cm)           sepal width (cm)            \\\n",
       "                    mean       std             mean       std   \n",
       "Target                                                          \n",
       "0                  5.006  0.352490            3.428  0.379064   \n",
       "1                  5.936  0.516171            2.770  0.313798   \n",
       "2                  6.588  0.635880            2.974  0.322497   \n",
       "\n",
       "       petal length (cm)           petal width (cm)            \n",
       "                    mean       std             mean       std  \n",
       "Target                                                         \n",
       "0                  1.462  0.173664            0.246  0.105386  \n",
       "1                  4.260  0.469911            1.326  0.197753  \n",
       "2                  5.552  0.551895            2.026  0.274650  "
      ]
     },
     "execution_count": 9,
     "metadata": {},
     "output_type": "execute_result"
    }
   ],
   "source": [
    "aggs = df.groupby('Target').agg(['mean', 'std'])\n",
    "aggs\n",
    "#aggs['sepal length (cm)']['mean'][0]"
   ]
  },
  {
   "cell_type": "markdown",
   "metadata": {},
   "source": [
    "## Calculate conditional probability point estimates\n",
    "\n",
    "Take another look at how to implement point estimates for the conditional probabilities of a feature for a given class. To do this, you'll simply use the PDF of the normal distribution. (Again, there can be some objection to this method as the probability of a specific point for a continuous distribution is 0. Some statisticians bin the continuous distribution into a discrete approximation to remedy this, but doing so requires additional work and the width of these bins is an arbitrary value which will potentially impact results.)\n",
    "\n",
    "$$ \\Large P(x_i|y) = \\frac{1}{\\sqrt{2 \\pi \\sigma_i^2}}e^{\\frac{-(x-\\mu_i)^2}{2\\sigma_i^2}}$$\n"
   ]
  },
  {
   "cell_type": "code",
   "execution_count": 5,
   "metadata": {},
   "outputs": [
    {
     "data": {
      "text/plain": [
       "2.1553774365786804"
      ]
     },
     "execution_count": 5,
     "metadata": {},
     "output_type": "execute_result"
    }
   ],
   "source": [
    "from scipy import stats\n",
    "\n",
    "def p_x_given_class(obs_row, feature, class_):\n",
    "    mu = aggs[feature]['mean'][class_]\n",
    "    std = aggs[feature]['std'][class_]\n",
    "    \n",
    "    # A single observation\n",
    "    obs = df.iloc[obs_row][feature] \n",
    "    \n",
    "    p_x_given_y = stats.norm.pdf(obs, loc=mu, scale=std)\n",
    "    return p_x_given_y\n",
    "\n",
    "# Notice how this is not a true probability; you can get values > 1\n",
    "p_x_given_class(0, 'petal length (cm)', 0) "
   ]
  },
  {
   "cell_type": "markdown",
   "metadata": {},
   "source": [
    "## Multinomial Bayes"
   ]
  },
  {
   "cell_type": "code",
   "execution_count": 5,
   "metadata": {},
   "outputs": [
    {
     "data": {
      "text/plain": [
       "[0.0004469582872647558,\n",
       " 0.00044432855867026464,\n",
       " 5.436807559640758e-152,\n",
       " 9.529514999027405e-251,\n",
       " 0.20091323410933296,\n",
       " 0.06135077392562668,\n",
       " 5.488088968636944e-05,\n",
       " 2.460149009916488e-12,\n",
       " 0.1887425821931875,\n",
       " 0.140076102721696,\n",
       " 0.0728335779635225,\n",
       " 0.023861042537402642]"
      ]
     },
     "execution_count": 5,
     "metadata": {},
     "output_type": "execute_result"
    }
   ],
   "source": [
    "row = 100\n",
    "c_probs = []\n",
    "for c in range(3):\n",
    "    # Initialize probability to relative probability of class \n",
    "    p = len(df[df['Target'] == c])/len(df) \n",
    "    for feature in X.columns:\n",
    "        p *= p_x_given_class(row, feature, c) \n",
    "        # Update the probability using the point estimate for each feature\n",
    "        c_probs.append(p)\n",
    "\n",
    "c_probs"
   ]
  },
  {
   "cell_type": "markdown",
   "metadata": {},
   "source": [
    "## Calculating class probabilities for observations\n",
    "\n",
    "While you haven't even attempted to calculate the denominator for the original equation,  \n",
    "\n",
    "$$P(y|x_1,x_2,...x_n) = \\frac{P(y)\\prod_{i}^{n}P(x_i|y)}{P(x_1,x_2,...x_n)}$$ \n",
    "\n",
    "you don't really have to.  \n",
    "\n",
    "That is, the probability $P(x_1, x_2, ..., x_n)$ is the probability of the given observation across all classes; it is not a function of class at all. As such, it will be a constant across all of these posterior class probabilities. Since you are simply interested in the most likely class for each observation, you can simply pick the class with the largest numerator. With that, let's adapt the code snippet above to create a function which predicts a class for a given row of data."
   ]
  },
  {
   "cell_type": "code",
   "execution_count": 16,
   "metadata": {},
   "outputs": [],
   "source": [
    "def predict_class(row):\n",
    "    c_probs = []\n",
    "    for c in range(3):\n",
    "        # Initialize probability to relative probability of class\n",
    "        p = len(df[df['Target'] == c])/len(df) \n",
    "        for feature in X.columns:\n",
    "            p *= p_x_given_class(row, feature, c)\n",
    "        c_probs.append(p)\n",
    "    print(c_probs)\n",
    "    return np.argmax(c_probs)"
   ]
  },
  {
   "cell_type": "markdown",
   "metadata": {},
   "source": [
    "Let's also take an example row to test this new function: "
   ]
  },
  {
   "cell_type": "code",
   "execution_count": 19,
   "metadata": {},
   "outputs": [
    {
     "data": {
      "text/plain": [
       "sepal length (cm)    5.1\n",
       "sepal width (cm)     3.5\n",
       "petal length (cm)    1.4\n",
       "petal width (cm)     0.2\n",
       "Target               0.0\n",
       "Name: 0, dtype: float64"
      ]
     },
     "execution_count": 19,
     "metadata": {},
     "output_type": "execute_result"
    }
   ],
   "source": [
    "row = 0\n",
    "df.iloc[row]"
   ]
  },
  {
   "cell_type": "code",
   "execution_count": 20,
   "metadata": {},
   "outputs": [
    {
     "name": "stdout",
     "output_type": "stream",
     "text": [
      "[2.7915339171768885, 8.322426199968082e-18, 6.008422572011136e-25]\n"
     ]
    },
    {
     "data": {
      "text/plain": [
       "0"
      ]
     },
     "execution_count": 20,
     "metadata": {},
     "output_type": "execute_result"
    }
   ],
   "source": [
    "predict_class(row)"
   ]
  },
  {
   "cell_type": "markdown",
   "metadata": {},
   "source": [
    "Nice! It appears that this `predict_class()` function has correctly predicted the class for this first row! Now it's time to take a look at how accurate this function is across the entire dataset!"
   ]
  },
  {
   "cell_type": "markdown",
   "metadata": {},
   "source": [
    "## Calculating accuracy\n",
    "\n",
    "In order to determine the overall accuracy of your newly minted Gaussian Naive Bayes classifier, you'll need to generate predictions for all of the rows in the dataset. From there, you can then compare these predictions to the actual class values stored in the 'Target' column. Take a look:"
   ]
  },
  {
   "cell_type": "code",
   "execution_count": 21,
   "metadata": {},
   "outputs": [
    {
     "name": "stdout",
     "output_type": "stream",
     "text": [
      "[2.7915339171768885, 8.322426199968082e-18, 6.008422572011136e-25]\n",
      "[1.4881643294772482, 4.716456836571178e-17, 1.0324928673739228e-24]\n",
      "[1.1631447162337678, 2.753294527651881e-18, 8.422280209499619e-26]\n",
      "[1.0857654378277555, 3.3328721735517824e-17, 9.435991991074563e-25]\n",
      "[2.6567375288352792, 2.7027983119749712e-18, 2.3607221382041093e-25]\n",
      "[0.11446033254506056, 3.11072473565318e-15, 4.972483514226187e-22]\n",
      "[1.4595294223002622, 3.3885005706095154e-17, 1.1659116985795967e-24]\n",
      "[3.05599011607492, 4.2501219960019256e-17, 2.4958255307837632e-24]\n",
      "[0.2546857025002334, 5.068642420150352e-18, 9.185160967301979e-26]\n",
      "[0.8487512278091073, 6.262877144021531e-18, 3.0686534672379035e-25]\n",
      "[1.2685009524610609, 1.19189478571548e-17, 1.870561094527647e-24]\n",
      "[1.924552373342615, 6.662731640927438e-17, 4.0292957589528274e-24]\n",
      "[0.5529990049310161, 1.5508970267350189e-18, 5.586351829321068e-26]\n",
      "[0.010713671945036012, 1.927424578461323e-21, 6.493104214903085e-29]\n",
      "[0.025486492899135835, 1.4103918051856026e-20, 6.3334773896246456e-27]\n",
      "[0.006230921484390984, 3.909195060960669e-19, 2.8100606739182315e-25]\n",
      "[0.18946811342585146, 2.0967648406138224e-17, 2.4297754964078128e-24]\n",
      "[2.6927825530724867, 1.3037841954989593e-16, 6.328069446314589e-24]\n",
      "[0.1053033571935869, 1.185899816421631e-15, 2.703326580957398e-22]\n",
      "[1.7627330512149384, 3.1879261986176476e-17, 3.461873952468618e-24]\n",
      "[0.6553453640126878, 1.4275922913812441e-15, 1.319858260396068e-22]\n",
      "[0.8646235180091266, 1.046243854932691e-15, 6.7341997596779e-23]\n",
      "[0.04238415208819255, 1.922214438702798e-21, 1.3266554102622753e-28]\n",
      "[0.06740755556696301, 2.1215360636165985e-12, 5.510773330274041e-20]\n",
      "[0.10968906274151093, 2.0166411046657172e-15, 1.7043009434693853e-22]\n",
      "[1.2099970830309388, 8.317507836587902e-16, 2.2147469781912916e-23]\n",
      "[0.8631920689033741, 2.7558252286755925e-14, 9.02162014197721e-22]\n",
      "[2.586960895128662, 3.990547529969227e-17, 3.2968064174353254e-24]\n",
      "[2.524405708262101, 2.2298795341157266e-17, 1.3551203620191252e-24]\n",
      "[1.310611635297413, 1.2526740596264668e-16, 4.787102673523127e-24]\n",
      "[1.327184129754526, 2.8757913353431896e-16, 8.932659904677108e-24]\n",
      "[0.6188543208088279, 2.4385955473226708e-14, 9.571682721685778e-22]\n",
      "[0.23055853148387842, 3.709899878705605e-21, 2.336199102234545e-27]\n",
      "[0.1386624202327595, 1.0014500247772293e-20, 5.9095883533745936e-27]\n",
      "[2.014556232454289, 1.2670245209180905e-16, 3.690051436143904e-24]\n",
      "[0.8393340950962657, 2.392879493191594e-18, 7.44825280064857e-26]\n",
      "[0.7473226591922703, 5.7889701203093e-18, 5.407348528048377e-25]\n",
      "[1.0699800375694202, 9.227436932668518e-20, 1.3092628496815928e-26]\n",
      "[0.2450172142536999, 1.130248758536482e-18, 2.365751393615534e-26]\n",
      "[2.949662837221318, 5.926830058015017e-17, 3.650958786107832e-24]\n",
      "[1.9244207134225062, 2.5029671494064887e-17, 1.0887773437674585e-24]\n",
      "[0.008353593501718949, 1.3178774163753702e-17, 4.775932657484498e-26]\n",
      "[0.3867844263580886, 5.782081705077274e-19, 1.85669402903821e-26]\n",
      "[0.008769438760896848, 9.44007909017914e-13, 3.2634097527048556e-20]\n",
      "[0.02941827878118737, 3.9937333824406856e-14, 5.025600187209851e-21]\n",
      "[1.266139927954728, 4.915297971046437e-16, 7.0749540553863e-24]\n",
      "[1.364921010490034, 6.942991340774774e-18, 1.2229904527721484e-24]\n",
      "[1.266134639331525, 6.346871233027186e-18, 2.0721130220883925e-25]\n",
      "[1.6731353004163994, 9.565724830814268e-18, 1.3772140177470038e-24]\n",
      "[2.7816135070031187, 2.145585337382678e-17, 9.318396828284842e-25]\n",
      "[9.62056345230251e-109, 0.015766032787598715, 0.003895664972292125]\n",
      "[7.33227212605127e-101, 0.0872894826779212, 0.005283283711761085]\n",
      "[1.8074049739117163e-122, 0.015152542669481366, 0.017743046697659234]\n",
      "[1.2289045575069965e-70, 0.10880286489107671, 4.123745794101086e-06]\n",
      "[2.490712677112322e-106, 0.16065839410782867, 0.008395052792788793]\n",
      "[8.46096085051599e-90, 0.43768553754549344, 0.0004375332545134457]\n",
      "[1.7871376177161895e-114, 0.02595609933561542, 0.013415977460473603]\n",
      "[3.0364907630653966e-37, 0.0011908955894291062, 3.715020128886553e-10]\n",
      "[1.1390820582457574e-97, 0.17175034532470873, 0.0018157669909907078]\n",
      "[6.883679947678071e-70, 0.13765307388533402, 1.4753003871300406e-05]\n",
      "[2.7280498819831155e-44, 0.0003709336313840761, 1.1661842128368024e-10]\n",
      "[1.388463255809103e-86, 0.28811653787784924, 0.0011988121383476947]\n",
      "[1.0920000970014927e-61, 0.023578584488218608, 1.7781391535858792e-07]\n",
      "[3.1448699802239866e-104, 0.29441339920665116, 0.004457129149452731]\n",
      "[7.376846081136154e-56, 0.1540069923287611, 4.6194129673451874e-06]\n",
      "[1.4894862114492438e-93, 0.09624627572898015, 0.002088759408854183]\n",
      "[2.79559145544969e-98, 0.2067804675791092, 0.002103235487460743]\n",
      "[2.5967417094225427e-63, 0.12816099901369257, 2.5726448292229196e-06]\n",
      "[3.7110516798417026e-102, 0.05635037724207822, 0.000328763203587725]\n",
      "[3.6692607663193497e-59, 0.12164766172931318, 1.0632048452278906e-06]\n",
      "[4.1852496871146434e-129, 0.006394485489929603, 0.03333859725509109]\n",
      "[5.6387597195221315e-71, 0.45164879602156205, 0.0001019464988647889]\n",
      "[2.8917266774266965e-120, 0.08114831186228426, 0.0066193264250392824]\n",
      "[3.681639778968249e-96, 0.27957117648143204, 0.0005771707906077928]\n",
      "[1.021395713166757e-83, 0.339524652574071, 0.0005871817199654823]\n",
      "[4.299566649407147e-93, 0.16720954410021535, 0.0022818302961559586]\n",
      "[1.135153563185021e-112, 0.06628008436170474, 0.00653708699696606]\n",
      "[6.09278117580794e-137, 0.006939972677301392, 0.07992252975918843]\n",
      "[1.555520030470922e-99, 0.3044889484803606, 0.004481408127539512]\n",
      "[4.362757977299095e-43, 0.03031683448706932, 4.855472655133469e-08]\n",
      "[7.904393999084742e-56, 0.06315568957135465, 2.8421068013185937e-07]\n",
      "[2.1705610148848114e-49, 0.024751099636498304, 4.313035739332243e-08]\n",
      "[1.109003471121603e-62, 0.32170233421072464, 1.0815954668842625e-05]\n",
      "[7.457933720529476e-134, 0.04207628546584994, 0.026514930830082686]\n",
      "[6.191771621490179e-98, 0.14906321476932183, 0.0012279175876490495]\n",
      "[3.2570616401570497e-104, 0.024935706686700542, 0.003614100975678574]\n",
      "[1.332535885172968e-111, 0.04726791678275089, 0.01202602493776451]\n",
      "[6.586852396319142e-89, 0.13514119760936427, 9.496396769472407e-05]\n",
      "[6.586504946205882e-73, 0.32459344515812544, 7.726831216821456e-05]\n",
      "[5.139641338030552e-70, 0.23068202716038466, 1.2435617784499376e-05]\n",
      "[1.3532869361654627e-81, 0.26475492602940986, 3.944958127865005e-05]\n",
      "[1.7093035893563773e-99, 0.29259937343067327, 0.00339207868889869]\n",
      "[1.686740383371379e-66, 0.32771671950256404, 1.3402655911637836e-05]\n",
      "[1.50012140299103e-37, 0.001125527576137578, 3.057230362430296e-10]\n",
      "[2.6535247923016087e-77, 0.43533645345473215, 8.561837690906297e-05]\n",
      "[4.455144327535828e-73, 0.31274552726851484, 5.5192515075993585e-05]\n",
      "[3.787400750385099e-77, 0.4560172993056356, 0.00015087980729470125]\n",
      "[8.199593079036058e-83, 0.4462085040149789, 0.0005092204273757559]\n",
      "[8.519078317752394e-33, 0.0014918656787066653, 4.6169357469656026e-10]\n",
      "[1.880978740562053e-73, 0.4705767697690458, 8.451788564026882e-05]\n",
      "[9.529514999027405e-251, 2.460149009916488e-12, 0.023861042537402642]\n",
      "[7.142269951684887e-151, 0.0015837143868438419, 0.05654691342815015]\n",
      "[3.808386002630625e-217, 3.602272811767538e-08, 0.15477082428765004]\n",
      "[4.868848976207806e-174, 0.0003893531984651644, 0.16956305959065074]\n",
      "[1.6461984700974675e-214, 6.298055597088928e-08, 0.19833987383813528]\n",
      "[1.6630086586368785e-269, 4.617790541713395e-12, 0.012128286202738668]\n",
      "[2.6883899991760604e-109, 0.007587153912344839, 0.00021865269921016113]\n",
      "[1.5048169341577985e-225, 7.166501537432639e-08, 0.04021493518223579]\n",
      "[3.2580851962190195e-189, 3.409463766537481e-05, 0.05851565916151865]\n",
      "[7.346103199543089e-263, 8.81077954656653e-15, 0.003579200023002782]\n",
      "[1.299532649106216e-159, 7.337895199509662e-05, 0.14982533966395017]\n",
      "[6.222842140474785e-164, 0.0004672282154796403, 0.1469864824297738]\n",
      "[1.0721082201675478e-190, 1.5321155842259252e-06, 0.24589152391726746]\n",
      "[1.3085449939942158e-152, 0.0003032438706992395, 0.021000734494116973]\n",
      "[6.78723081821685e-188, 4.295528496279643e-08, 0.030831027273345458]\n",
      "[3.286865890397074e-192, 6.828325458701939e-08, 0.11142121006412879]\n",
      "[5.548097555630528e-169, 0.00041058347052119255, 0.19030626070193835]\n",
      "[2.8070713218675534e-285, 5.984457952147146e-16, 0.00020830025158564212]\n",
      "[2.578336928805855e-309, 1.0654870533355465e-15, 0.000925328333286473]\n",
      "[4.576769807784549e-125, 0.021013762078712042, 0.0009634224436639585]\n",
      "[2.4243711869756233e-218, 1.891798545416691e-09, 0.11049155783974565]\n"
     ]
    },
    {
     "name": "stdout",
     "output_type": "stream",
     "text": [
      "[1.1750980822237775e-146, 0.000536606947479853, 0.03479628345456728]\n",
      "[3.6405421692350816e-271, 6.818696099976866e-12, 0.005823603033983104]\n",
      "[3.0977324834135582e-136, 0.009545016241185115, 0.06061666082099883]\n",
      "[9.427560281041613e-202, 1.941292785037314e-07, 0.1492712459907466]\n",
      "[3.6045515139484936e-204, 6.518884204295353e-07, 0.06856152672007118]\n",
      "[1.022193586717617e-130, 0.014315943555002911, 0.05492002705926824]\n",
      "[7.076638055824245e-135, 0.009119933354888511, 0.07154536467578372]\n",
      "[1.1296852314495763e-194, 3.0143066621203967e-06, 0.2159649466270106]\n",
      "[3.247472077331856e-180, 3.8111595741245e-05, 0.04625585879727864]\n",
      "[3.603245086730837e-219, 6.938726183755868e-08, 0.057132451142495516]\n",
      "[9.4429348957305e-251, 1.7364191618706203e-13, 0.0003719125582964372]\n",
      "[4.0508332936589256e-202, 3.665145340907804e-07, 0.18322796102589495]\n",
      "[9.48644256547235e-130, 0.05983758948802851, 0.02421638427766977]\n",
      "[1.2193018114590746e-152, 0.007363998713978062, 0.007661527644638524]\n",
      "[1.6167272562865507e-250, 3.1555203689162446e-12, 0.021791514890192164]\n",
      "[4.056854785283225e-217, 3.935017137881187e-10, 0.04038666834172058]\n",
      "[2.3073952084298477e-168, 0.00037470768367874795, 0.1709602658465849]\n",
      "[1.2401874579931628e-129, 0.012434071832184831, 0.04973957384619482]\n",
      "[1.7486096762453397e-185, 1.4023586453156065e-06, 0.20716841110109674]\n",
      "[2.280162752723544e-219, 7.28309272279148e-10, 0.09767807997749996]\n",
      "[2.1138316878894634e-184, 6.16227897857035e-08, 0.09700302352808512]\n",
      "[7.142269951684887e-151, 0.0015837143868438419, 0.05654691342815015]\n",
      "[3.4327209845207278e-230, 6.608387836336676e-10, 0.100172385857139]\n",
      "[7.022688069633921e-234, 9.149005817922665e-12, 0.03491139966133928]\n",
      "[1.4262923611857253e-188, 1.0467950434771597e-07, 0.1322454116156773]\n",
      "[4.960093938230765e-148, 0.0012947448536495712, 0.045437244880693964]\n",
      "[4.0250145868928217e-165, 9.585592632271517e-05, 0.2178376508486169]\n",
      "[7.943392147159486e-197, 1.8667886338391514e-08, 0.05516259047341663]\n",
      "[2.2657468054581688e-144, 0.004895245168281268, 0.07685700013118238]\n"
     ]
    },
    {
     "data": {
      "text/plain": [
       "True     0.96\n",
       "False    0.04\n",
       "Name: Correct?, dtype: float64"
      ]
     },
     "execution_count": 21,
     "metadata": {},
     "output_type": "execute_result"
    }
   ],
   "source": [
    "df['Predictions'] =  [predict_class(row) for row in df.index]\n",
    "df['Correct?'] = df['Target'] == df['Predictions']\n",
    "df['Correct?'].value_counts(normalize=True)"
   ]
  },
  {
   "cell_type": "markdown",
   "metadata": {},
   "source": [
    "## Summary\n",
    "\n",
    "Nicely done! You're well on your way to using Bayesian statistics in the context of machine learning! In this lesson, you saw how to adapt Bayes theorem along with your knowledge of the normal distribution to create a machine learning classifier known as Gaussian Naive Bayes. "
   ]
  },
  {
   "cell_type": "code",
   "execution_count": null,
   "metadata": {},
   "outputs": [],
   "source": []
  }
 ],
 "metadata": {
  "kernelspec": {
   "display_name": "Python 3",
   "language": "python",
   "name": "python3"
  },
  "language_info": {
   "codemirror_mode": {
    "name": "ipython",
    "version": 3
   },
   "file_extension": ".py",
   "mimetype": "text/x-python",
   "name": "python",
   "nbconvert_exporter": "python",
   "pygments_lexer": "ipython3",
   "version": "3.6.9"
  }
 },
 "nbformat": 4,
 "nbformat_minor": 2
}
